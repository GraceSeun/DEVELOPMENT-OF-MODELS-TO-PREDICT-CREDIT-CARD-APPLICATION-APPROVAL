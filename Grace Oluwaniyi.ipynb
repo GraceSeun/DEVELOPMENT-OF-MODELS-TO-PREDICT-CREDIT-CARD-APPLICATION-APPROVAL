{
 "cells": [
  {
   "cell_type": "code",
   "execution_count": 1,
   "metadata": {
    "scrolled": true
   },
   "outputs": [],
   "source": [
    "#importing important libraries\n",
    "import numpy as np\n",
    "import pandas as pd\n",
    "import sklearn as sk\n",
    "import matplotlib.pyplot as plt\n",
    "import seaborn as sns"
   ]
  },
  {
   "cell_type": "code",
   "execution_count": 2,
   "metadata": {},
   "outputs": [],
   "source": [
    "#loading the dataset\n",
    "dataset=pd.read_csv('Credit_Approval.csv')"
   ]
  },
  {
   "cell_type": "code",
   "execution_count": 3,
   "metadata": {},
   "outputs": [
    {
     "data": {
      "text/html": [
       "<div>\n",
       "<style scoped>\n",
       "    .dataframe tbody tr th:only-of-type {\n",
       "        vertical-align: middle;\n",
       "    }\n",
       "\n",
       "    .dataframe tbody tr th {\n",
       "        vertical-align: top;\n",
       "    }\n",
       "\n",
       "    .dataframe thead th {\n",
       "        text-align: right;\n",
       "    }\n",
       "</style>\n",
       "<table border=\"1\" class=\"dataframe\">\n",
       "  <thead>\n",
       "    <tr style=\"text-align: right;\">\n",
       "      <th></th>\n",
       "      <th>b</th>\n",
       "      <th>30.83</th>\n",
       "      <th>0</th>\n",
       "      <th>u</th>\n",
       "      <th>g</th>\n",
       "      <th>w</th>\n",
       "      <th>v</th>\n",
       "      <th>1.25</th>\n",
       "      <th>t</th>\n",
       "      <th>t.1</th>\n",
       "      <th>1</th>\n",
       "      <th>f</th>\n",
       "      <th>g.1</th>\n",
       "      <th>202</th>\n",
       "      <th>0.1</th>\n",
       "      <th>+</th>\n",
       "    </tr>\n",
       "  </thead>\n",
       "  <tbody>\n",
       "    <tr>\n",
       "      <th>0</th>\n",
       "      <td>a</td>\n",
       "      <td>58.67</td>\n",
       "      <td>4.460</td>\n",
       "      <td>u</td>\n",
       "      <td>g</td>\n",
       "      <td>q</td>\n",
       "      <td>h</td>\n",
       "      <td>3.04</td>\n",
       "      <td>t</td>\n",
       "      <td>t</td>\n",
       "      <td>6</td>\n",
       "      <td>f</td>\n",
       "      <td>g</td>\n",
       "      <td>43</td>\n",
       "      <td>560</td>\n",
       "      <td>+</td>\n",
       "    </tr>\n",
       "    <tr>\n",
       "      <th>1</th>\n",
       "      <td>a</td>\n",
       "      <td>24.5</td>\n",
       "      <td>0.500</td>\n",
       "      <td>u</td>\n",
       "      <td>g</td>\n",
       "      <td>q</td>\n",
       "      <td>h</td>\n",
       "      <td>1.50</td>\n",
       "      <td>t</td>\n",
       "      <td>f</td>\n",
       "      <td>0</td>\n",
       "      <td>f</td>\n",
       "      <td>g</td>\n",
       "      <td>280</td>\n",
       "      <td>824</td>\n",
       "      <td>+</td>\n",
       "    </tr>\n",
       "    <tr>\n",
       "      <th>2</th>\n",
       "      <td>b</td>\n",
       "      <td>27.83</td>\n",
       "      <td>1.540</td>\n",
       "      <td>u</td>\n",
       "      <td>g</td>\n",
       "      <td>w</td>\n",
       "      <td>v</td>\n",
       "      <td>3.75</td>\n",
       "      <td>t</td>\n",
       "      <td>t</td>\n",
       "      <td>5</td>\n",
       "      <td>t</td>\n",
       "      <td>g</td>\n",
       "      <td>100</td>\n",
       "      <td>3</td>\n",
       "      <td>+</td>\n",
       "    </tr>\n",
       "    <tr>\n",
       "      <th>3</th>\n",
       "      <td>b</td>\n",
       "      <td>20.17</td>\n",
       "      <td>5.625</td>\n",
       "      <td>u</td>\n",
       "      <td>g</td>\n",
       "      <td>w</td>\n",
       "      <td>v</td>\n",
       "      <td>1.71</td>\n",
       "      <td>t</td>\n",
       "      <td>f</td>\n",
       "      <td>0</td>\n",
       "      <td>f</td>\n",
       "      <td>s</td>\n",
       "      <td>120</td>\n",
       "      <td>0</td>\n",
       "      <td>+</td>\n",
       "    </tr>\n",
       "    <tr>\n",
       "      <th>4</th>\n",
       "      <td>b</td>\n",
       "      <td>32.08</td>\n",
       "      <td>4.000</td>\n",
       "      <td>u</td>\n",
       "      <td>g</td>\n",
       "      <td>m</td>\n",
       "      <td>v</td>\n",
       "      <td>2.50</td>\n",
       "      <td>t</td>\n",
       "      <td>f</td>\n",
       "      <td>0</td>\n",
       "      <td>t</td>\n",
       "      <td>g</td>\n",
       "      <td>360</td>\n",
       "      <td>0</td>\n",
       "      <td>+</td>\n",
       "    </tr>\n",
       "  </tbody>\n",
       "</table>\n",
       "</div>"
      ],
      "text/plain": [
       "   b  30.83      0  u  g  w  v  1.25  t t.1  1  f g.1  202  0.1  +\n",
       "0  a  58.67  4.460  u  g  q  h  3.04  t   t  6  f   g   43  560  +\n",
       "1  a   24.5  0.500  u  g  q  h  1.50  t   f  0  f   g  280  824  +\n",
       "2  b  27.83  1.540  u  g  w  v  3.75  t   t  5  t   g  100    3  +\n",
       "3  b  20.17  5.625  u  g  w  v  1.71  t   f  0  f   s  120    0  +\n",
       "4  b  32.08  4.000  u  g  m  v  2.50  t   f  0  t   g  360    0  +"
      ]
     },
     "execution_count": 3,
     "metadata": {},
     "output_type": "execute_result"
    }
   ],
   "source": [
    "dataset.head()"
   ]
  },
  {
   "cell_type": "code",
   "execution_count": null,
   "metadata": {},
   "outputs": [],
   "source": []
  },
  {
   "cell_type": "code",
   "execution_count": 4,
   "metadata": {},
   "outputs": [],
   "source": [
    "#Giving names to the variables.\n",
    "dataset=pd.read_csv('Credit_Approval.csv', names = ['Gender', 'Age', 'AmountOwed(%)', 'AccountType', 'FamilyStatus', 'ResidenceCity', 'OccupationType', \n",
    "              'YearsEmployed', 'OwnedOnePreviously', 'OwnProperty', 'AccountLength', 'Citizen', 'HousingType',\n",
    "             'CreditScore', 'MonthlyIncome', 'Approved'])"
   ]
  },
  {
   "cell_type": "code",
   "execution_count": 5,
   "metadata": {},
   "outputs": [
    {
     "data": {
      "text/html": [
       "<div>\n",
       "<style scoped>\n",
       "    .dataframe tbody tr th:only-of-type {\n",
       "        vertical-align: middle;\n",
       "    }\n",
       "\n",
       "    .dataframe tbody tr th {\n",
       "        vertical-align: top;\n",
       "    }\n",
       "\n",
       "    .dataframe thead th {\n",
       "        text-align: right;\n",
       "    }\n",
       "</style>\n",
       "<table border=\"1\" class=\"dataframe\">\n",
       "  <thead>\n",
       "    <tr style=\"text-align: right;\">\n",
       "      <th></th>\n",
       "      <th>Gender</th>\n",
       "      <th>Age</th>\n",
       "      <th>AmountOwed(%)</th>\n",
       "      <th>AccountType</th>\n",
       "      <th>FamilyStatus</th>\n",
       "      <th>ResidenceCity</th>\n",
       "      <th>OccupationType</th>\n",
       "      <th>YearsEmployed</th>\n",
       "      <th>OwnedOnePreviously</th>\n",
       "      <th>OwnProperty</th>\n",
       "      <th>AccountLength</th>\n",
       "      <th>Citizen</th>\n",
       "      <th>HousingType</th>\n",
       "      <th>CreditScore</th>\n",
       "      <th>MonthlyIncome</th>\n",
       "      <th>Approved</th>\n",
       "    </tr>\n",
       "  </thead>\n",
       "  <tbody>\n",
       "    <tr>\n",
       "      <th>0</th>\n",
       "      <td>b</td>\n",
       "      <td>30.83</td>\n",
       "      <td>0.000</td>\n",
       "      <td>u</td>\n",
       "      <td>g</td>\n",
       "      <td>w</td>\n",
       "      <td>v</td>\n",
       "      <td>1.25</td>\n",
       "      <td>t</td>\n",
       "      <td>t</td>\n",
       "      <td>1</td>\n",
       "      <td>f</td>\n",
       "      <td>g</td>\n",
       "      <td>202</td>\n",
       "      <td>0</td>\n",
       "      <td>+</td>\n",
       "    </tr>\n",
       "    <tr>\n",
       "      <th>1</th>\n",
       "      <td>a</td>\n",
       "      <td>58.67</td>\n",
       "      <td>4.460</td>\n",
       "      <td>u</td>\n",
       "      <td>g</td>\n",
       "      <td>q</td>\n",
       "      <td>h</td>\n",
       "      <td>3.04</td>\n",
       "      <td>t</td>\n",
       "      <td>t</td>\n",
       "      <td>6</td>\n",
       "      <td>f</td>\n",
       "      <td>g</td>\n",
       "      <td>43</td>\n",
       "      <td>560</td>\n",
       "      <td>+</td>\n",
       "    </tr>\n",
       "    <tr>\n",
       "      <th>2</th>\n",
       "      <td>a</td>\n",
       "      <td>24.5</td>\n",
       "      <td>0.500</td>\n",
       "      <td>u</td>\n",
       "      <td>g</td>\n",
       "      <td>q</td>\n",
       "      <td>h</td>\n",
       "      <td>1.50</td>\n",
       "      <td>t</td>\n",
       "      <td>f</td>\n",
       "      <td>0</td>\n",
       "      <td>f</td>\n",
       "      <td>g</td>\n",
       "      <td>280</td>\n",
       "      <td>824</td>\n",
       "      <td>+</td>\n",
       "    </tr>\n",
       "    <tr>\n",
       "      <th>3</th>\n",
       "      <td>b</td>\n",
       "      <td>27.83</td>\n",
       "      <td>1.540</td>\n",
       "      <td>u</td>\n",
       "      <td>g</td>\n",
       "      <td>w</td>\n",
       "      <td>v</td>\n",
       "      <td>3.75</td>\n",
       "      <td>t</td>\n",
       "      <td>t</td>\n",
       "      <td>5</td>\n",
       "      <td>t</td>\n",
       "      <td>g</td>\n",
       "      <td>100</td>\n",
       "      <td>3</td>\n",
       "      <td>+</td>\n",
       "    </tr>\n",
       "    <tr>\n",
       "      <th>4</th>\n",
       "      <td>b</td>\n",
       "      <td>20.17</td>\n",
       "      <td>5.625</td>\n",
       "      <td>u</td>\n",
       "      <td>g</td>\n",
       "      <td>w</td>\n",
       "      <td>v</td>\n",
       "      <td>1.71</td>\n",
       "      <td>t</td>\n",
       "      <td>f</td>\n",
       "      <td>0</td>\n",
       "      <td>f</td>\n",
       "      <td>s</td>\n",
       "      <td>120</td>\n",
       "      <td>0</td>\n",
       "      <td>+</td>\n",
       "    </tr>\n",
       "  </tbody>\n",
       "</table>\n",
       "</div>"
      ],
      "text/plain": [
       "  Gender    Age  AmountOwed(%) AccountType FamilyStatus ResidenceCity  \\\n",
       "0      b  30.83          0.000           u            g             w   \n",
       "1      a  58.67          4.460           u            g             q   \n",
       "2      a   24.5          0.500           u            g             q   \n",
       "3      b  27.83          1.540           u            g             w   \n",
       "4      b  20.17          5.625           u            g             w   \n",
       "\n",
       "  OccupationType  YearsEmployed OwnedOnePreviously OwnProperty  AccountLength  \\\n",
       "0              v           1.25                  t           t              1   \n",
       "1              h           3.04                  t           t              6   \n",
       "2              h           1.50                  t           f              0   \n",
       "3              v           3.75                  t           t              5   \n",
       "4              v           1.71                  t           f              0   \n",
       "\n",
       "  Citizen HousingType CreditScore  MonthlyIncome Approved  \n",
       "0       f           g         202              0        +  \n",
       "1       f           g          43            560        +  \n",
       "2       f           g         280            824        +  \n",
       "3       t           g         100              3        +  \n",
       "4       f           s         120              0        +  "
      ]
     },
     "execution_count": 5,
     "metadata": {},
     "output_type": "execute_result"
    }
   ],
   "source": [
    "dataset.head()"
   ]
  },
  {
   "cell_type": "code",
   "execution_count": null,
   "metadata": {},
   "outputs": [],
   "source": []
  },
  {
   "cell_type": "code",
   "execution_count": 6,
   "metadata": {},
   "outputs": [
    {
     "data": {
      "text/html": [
       "<div>\n",
       "<style scoped>\n",
       "    .dataframe tbody tr th:only-of-type {\n",
       "        vertical-align: middle;\n",
       "    }\n",
       "\n",
       "    .dataframe tbody tr th {\n",
       "        vertical-align: top;\n",
       "    }\n",
       "\n",
       "    .dataframe thead th {\n",
       "        text-align: right;\n",
       "    }\n",
       "</style>\n",
       "<table border=\"1\" class=\"dataframe\">\n",
       "  <thead>\n",
       "    <tr style=\"text-align: right;\">\n",
       "      <th></th>\n",
       "      <th>Gender</th>\n",
       "      <th>Age</th>\n",
       "      <th>AmountOwed(%)</th>\n",
       "      <th>AccountType</th>\n",
       "      <th>FamilyStatus</th>\n",
       "      <th>ResidenceCity</th>\n",
       "      <th>OccupationType</th>\n",
       "      <th>YearsEmployed</th>\n",
       "      <th>OwnedOnePreviously</th>\n",
       "      <th>OwnProperty</th>\n",
       "      <th>AccountLength</th>\n",
       "      <th>Citizen</th>\n",
       "      <th>HousingType</th>\n",
       "      <th>CreditScore</th>\n",
       "      <th>MonthlyIncome</th>\n",
       "      <th>Approved</th>\n",
       "    </tr>\n",
       "  </thead>\n",
       "  <tbody>\n",
       "    <tr>\n",
       "      <th>count</th>\n",
       "      <td>690</td>\n",
       "      <td>690</td>\n",
       "      <td>690.000000</td>\n",
       "      <td>690</td>\n",
       "      <td>690</td>\n",
       "      <td>690</td>\n",
       "      <td>690</td>\n",
       "      <td>690.000000</td>\n",
       "      <td>690</td>\n",
       "      <td>690</td>\n",
       "      <td>690.00000</td>\n",
       "      <td>690</td>\n",
       "      <td>690</td>\n",
       "      <td>690</td>\n",
       "      <td>690.000000</td>\n",
       "      <td>690</td>\n",
       "    </tr>\n",
       "    <tr>\n",
       "      <th>unique</th>\n",
       "      <td>3</td>\n",
       "      <td>350</td>\n",
       "      <td>NaN</td>\n",
       "      <td>4</td>\n",
       "      <td>4</td>\n",
       "      <td>15</td>\n",
       "      <td>10</td>\n",
       "      <td>NaN</td>\n",
       "      <td>2</td>\n",
       "      <td>2</td>\n",
       "      <td>NaN</td>\n",
       "      <td>2</td>\n",
       "      <td>3</td>\n",
       "      <td>171</td>\n",
       "      <td>NaN</td>\n",
       "      <td>2</td>\n",
       "    </tr>\n",
       "    <tr>\n",
       "      <th>top</th>\n",
       "      <td>b</td>\n",
       "      <td>?</td>\n",
       "      <td>NaN</td>\n",
       "      <td>u</td>\n",
       "      <td>g</td>\n",
       "      <td>c</td>\n",
       "      <td>v</td>\n",
       "      <td>NaN</td>\n",
       "      <td>t</td>\n",
       "      <td>f</td>\n",
       "      <td>NaN</td>\n",
       "      <td>f</td>\n",
       "      <td>g</td>\n",
       "      <td>0</td>\n",
       "      <td>NaN</td>\n",
       "      <td>-</td>\n",
       "    </tr>\n",
       "    <tr>\n",
       "      <th>freq</th>\n",
       "      <td>468</td>\n",
       "      <td>12</td>\n",
       "      <td>NaN</td>\n",
       "      <td>519</td>\n",
       "      <td>519</td>\n",
       "      <td>137</td>\n",
       "      <td>399</td>\n",
       "      <td>NaN</td>\n",
       "      <td>361</td>\n",
       "      <td>395</td>\n",
       "      <td>NaN</td>\n",
       "      <td>374</td>\n",
       "      <td>625</td>\n",
       "      <td>132</td>\n",
       "      <td>NaN</td>\n",
       "      <td>383</td>\n",
       "    </tr>\n",
       "    <tr>\n",
       "      <th>mean</th>\n",
       "      <td>NaN</td>\n",
       "      <td>NaN</td>\n",
       "      <td>4.758725</td>\n",
       "      <td>NaN</td>\n",
       "      <td>NaN</td>\n",
       "      <td>NaN</td>\n",
       "      <td>NaN</td>\n",
       "      <td>2.223406</td>\n",
       "      <td>NaN</td>\n",
       "      <td>NaN</td>\n",
       "      <td>2.40000</td>\n",
       "      <td>NaN</td>\n",
       "      <td>NaN</td>\n",
       "      <td>NaN</td>\n",
       "      <td>1017.385507</td>\n",
       "      <td>NaN</td>\n",
       "    </tr>\n",
       "    <tr>\n",
       "      <th>std</th>\n",
       "      <td>NaN</td>\n",
       "      <td>NaN</td>\n",
       "      <td>4.978163</td>\n",
       "      <td>NaN</td>\n",
       "      <td>NaN</td>\n",
       "      <td>NaN</td>\n",
       "      <td>NaN</td>\n",
       "      <td>3.346513</td>\n",
       "      <td>NaN</td>\n",
       "      <td>NaN</td>\n",
       "      <td>4.86294</td>\n",
       "      <td>NaN</td>\n",
       "      <td>NaN</td>\n",
       "      <td>NaN</td>\n",
       "      <td>5210.102598</td>\n",
       "      <td>NaN</td>\n",
       "    </tr>\n",
       "    <tr>\n",
       "      <th>min</th>\n",
       "      <td>NaN</td>\n",
       "      <td>NaN</td>\n",
       "      <td>0.000000</td>\n",
       "      <td>NaN</td>\n",
       "      <td>NaN</td>\n",
       "      <td>NaN</td>\n",
       "      <td>NaN</td>\n",
       "      <td>0.000000</td>\n",
       "      <td>NaN</td>\n",
       "      <td>NaN</td>\n",
       "      <td>0.00000</td>\n",
       "      <td>NaN</td>\n",
       "      <td>NaN</td>\n",
       "      <td>NaN</td>\n",
       "      <td>0.000000</td>\n",
       "      <td>NaN</td>\n",
       "    </tr>\n",
       "    <tr>\n",
       "      <th>25%</th>\n",
       "      <td>NaN</td>\n",
       "      <td>NaN</td>\n",
       "      <td>1.000000</td>\n",
       "      <td>NaN</td>\n",
       "      <td>NaN</td>\n",
       "      <td>NaN</td>\n",
       "      <td>NaN</td>\n",
       "      <td>0.165000</td>\n",
       "      <td>NaN</td>\n",
       "      <td>NaN</td>\n",
       "      <td>0.00000</td>\n",
       "      <td>NaN</td>\n",
       "      <td>NaN</td>\n",
       "      <td>NaN</td>\n",
       "      <td>0.000000</td>\n",
       "      <td>NaN</td>\n",
       "    </tr>\n",
       "    <tr>\n",
       "      <th>50%</th>\n",
       "      <td>NaN</td>\n",
       "      <td>NaN</td>\n",
       "      <td>2.750000</td>\n",
       "      <td>NaN</td>\n",
       "      <td>NaN</td>\n",
       "      <td>NaN</td>\n",
       "      <td>NaN</td>\n",
       "      <td>1.000000</td>\n",
       "      <td>NaN</td>\n",
       "      <td>NaN</td>\n",
       "      <td>0.00000</td>\n",
       "      <td>NaN</td>\n",
       "      <td>NaN</td>\n",
       "      <td>NaN</td>\n",
       "      <td>5.000000</td>\n",
       "      <td>NaN</td>\n",
       "    </tr>\n",
       "    <tr>\n",
       "      <th>75%</th>\n",
       "      <td>NaN</td>\n",
       "      <td>NaN</td>\n",
       "      <td>7.207500</td>\n",
       "      <td>NaN</td>\n",
       "      <td>NaN</td>\n",
       "      <td>NaN</td>\n",
       "      <td>NaN</td>\n",
       "      <td>2.625000</td>\n",
       "      <td>NaN</td>\n",
       "      <td>NaN</td>\n",
       "      <td>3.00000</td>\n",
       "      <td>NaN</td>\n",
       "      <td>NaN</td>\n",
       "      <td>NaN</td>\n",
       "      <td>395.500000</td>\n",
       "      <td>NaN</td>\n",
       "    </tr>\n",
       "    <tr>\n",
       "      <th>max</th>\n",
       "      <td>NaN</td>\n",
       "      <td>NaN</td>\n",
       "      <td>28.000000</td>\n",
       "      <td>NaN</td>\n",
       "      <td>NaN</td>\n",
       "      <td>NaN</td>\n",
       "      <td>NaN</td>\n",
       "      <td>28.500000</td>\n",
       "      <td>NaN</td>\n",
       "      <td>NaN</td>\n",
       "      <td>67.00000</td>\n",
       "      <td>NaN</td>\n",
       "      <td>NaN</td>\n",
       "      <td>NaN</td>\n",
       "      <td>100000.000000</td>\n",
       "      <td>NaN</td>\n",
       "    </tr>\n",
       "  </tbody>\n",
       "</table>\n",
       "</div>"
      ],
      "text/plain": [
       "       Gender  Age  AmountOwed(%) AccountType FamilyStatus ResidenceCity  \\\n",
       "count     690  690     690.000000         690          690           690   \n",
       "unique      3  350            NaN           4            4            15   \n",
       "top         b    ?            NaN           u            g             c   \n",
       "freq      468   12            NaN         519          519           137   \n",
       "mean      NaN  NaN       4.758725         NaN          NaN           NaN   \n",
       "std       NaN  NaN       4.978163         NaN          NaN           NaN   \n",
       "min       NaN  NaN       0.000000         NaN          NaN           NaN   \n",
       "25%       NaN  NaN       1.000000         NaN          NaN           NaN   \n",
       "50%       NaN  NaN       2.750000         NaN          NaN           NaN   \n",
       "75%       NaN  NaN       7.207500         NaN          NaN           NaN   \n",
       "max       NaN  NaN      28.000000         NaN          NaN           NaN   \n",
       "\n",
       "       OccupationType  YearsEmployed OwnedOnePreviously OwnProperty  \\\n",
       "count             690     690.000000                690         690   \n",
       "unique             10            NaN                  2           2   \n",
       "top                 v            NaN                  t           f   \n",
       "freq              399            NaN                361         395   \n",
       "mean              NaN       2.223406                NaN         NaN   \n",
       "std               NaN       3.346513                NaN         NaN   \n",
       "min               NaN       0.000000                NaN         NaN   \n",
       "25%               NaN       0.165000                NaN         NaN   \n",
       "50%               NaN       1.000000                NaN         NaN   \n",
       "75%               NaN       2.625000                NaN         NaN   \n",
       "max               NaN      28.500000                NaN         NaN   \n",
       "\n",
       "        AccountLength Citizen HousingType CreditScore  MonthlyIncome Approved  \n",
       "count       690.00000     690         690         690     690.000000      690  \n",
       "unique            NaN       2           3         171            NaN        2  \n",
       "top               NaN       f           g           0            NaN        -  \n",
       "freq              NaN     374         625         132            NaN      383  \n",
       "mean          2.40000     NaN         NaN         NaN    1017.385507      NaN  \n",
       "std           4.86294     NaN         NaN         NaN    5210.102598      NaN  \n",
       "min           0.00000     NaN         NaN         NaN       0.000000      NaN  \n",
       "25%           0.00000     NaN         NaN         NaN       0.000000      NaN  \n",
       "50%           0.00000     NaN         NaN         NaN       5.000000      NaN  \n",
       "75%           3.00000     NaN         NaN         NaN     395.500000      NaN  \n",
       "max          67.00000     NaN         NaN         NaN  100000.000000      NaN  "
      ]
     },
     "execution_count": 6,
     "metadata": {},
     "output_type": "execute_result"
    }
   ],
   "source": [
    "#Description of the dataset\n",
    "dataset.describe(include = \"all\")"
   ]
  },
  {
   "cell_type": "code",
   "execution_count": null,
   "metadata": {},
   "outputs": [],
   "source": []
  },
  {
   "cell_type": "code",
   "execution_count": 7,
   "metadata": {},
   "outputs": [],
   "source": [
    "#Changing values of the categorical variables\n",
    "\n",
    "dataset['Gender']=dataset['Gender'].replace(['a','b'],[0,1])\n",
    "dataset['AccountType']=dataset['AccountType'].replace(['u','y','l'],['Checking','Savings','Student'])\n",
    "dataset['FamilyStatus']=dataset['FamilyStatus'].replace(['g','p','gg'],['Single','Married','Divorced'])\n",
    "dataset['ResidenceCity']=dataset['ResidenceCity'].replace(['c','d','cc','i','j','k','m','r','q','w','x','e','aa','ff'],\n",
    "                        ['Manchester', 'London', 'Birmingham', 'Derby', 'Chichester', 'Leicester', 'Salford', \n",
    "                         'Sheffield', 'York', 'Oxford', 'Bristol', 'Exeter', 'Preston', 'Other'])\n",
    "dataset['OccupationType']=dataset['OccupationType'].replace(['v','h','bb','j','n','z','dd','ff','o'],\n",
    "                            ['Data Scientist', 'Security Staff', 'Accountant', 'Doctor', 'Sale Staff', 'Manager', \n",
    "                             'Labourer', 'Entrepreneur', 'Other'])\n",
    "dataset['OwnedOnePreviously']=dataset['OwnedOnePreviously'].replace(['t','f'],[0,1])\n",
    "dataset['OwnProperty']=dataset['OwnProperty'].replace(['t','f'],[0,1])\n",
    "dataset['Citizen']=dataset['Citizen'].replace(['t','f'],[0,1])\n",
    "dataset['HousingType']=dataset['HousingType'].replace(['g','p','s'],['House','Apartment','Shared Accomodation'])\n",
    "dataset['Approved']=dataset['Approved'].replace(['+','-'],[0,1])"
   ]
  },
  {
   "cell_type": "code",
   "execution_count": 8,
   "metadata": {
    "scrolled": true
   },
   "outputs": [
    {
     "data": {
      "text/html": [
       "<div>\n",
       "<style scoped>\n",
       "    .dataframe tbody tr th:only-of-type {\n",
       "        vertical-align: middle;\n",
       "    }\n",
       "\n",
       "    .dataframe tbody tr th {\n",
       "        vertical-align: top;\n",
       "    }\n",
       "\n",
       "    .dataframe thead th {\n",
       "        text-align: right;\n",
       "    }\n",
       "</style>\n",
       "<table border=\"1\" class=\"dataframe\">\n",
       "  <thead>\n",
       "    <tr style=\"text-align: right;\">\n",
       "      <th></th>\n",
       "      <th>Gender</th>\n",
       "      <th>Age</th>\n",
       "      <th>AmountOwed(%)</th>\n",
       "      <th>AccountType</th>\n",
       "      <th>FamilyStatus</th>\n",
       "      <th>ResidenceCity</th>\n",
       "      <th>OccupationType</th>\n",
       "      <th>YearsEmployed</th>\n",
       "      <th>OwnedOnePreviously</th>\n",
       "      <th>OwnProperty</th>\n",
       "      <th>AccountLength</th>\n",
       "      <th>Citizen</th>\n",
       "      <th>HousingType</th>\n",
       "      <th>CreditScore</th>\n",
       "      <th>MonthlyIncome</th>\n",
       "      <th>Approved</th>\n",
       "    </tr>\n",
       "  </thead>\n",
       "  <tbody>\n",
       "    <tr>\n",
       "      <th>0</th>\n",
       "      <td>1</td>\n",
       "      <td>30.83</td>\n",
       "      <td>0.000</td>\n",
       "      <td>Checking</td>\n",
       "      <td>Single</td>\n",
       "      <td>Oxford</td>\n",
       "      <td>Data Scientist</td>\n",
       "      <td>1.25</td>\n",
       "      <td>0</td>\n",
       "      <td>0</td>\n",
       "      <td>1</td>\n",
       "      <td>1</td>\n",
       "      <td>House</td>\n",
       "      <td>202</td>\n",
       "      <td>0</td>\n",
       "      <td>0</td>\n",
       "    </tr>\n",
       "    <tr>\n",
       "      <th>1</th>\n",
       "      <td>0</td>\n",
       "      <td>58.67</td>\n",
       "      <td>4.460</td>\n",
       "      <td>Checking</td>\n",
       "      <td>Single</td>\n",
       "      <td>York</td>\n",
       "      <td>Security Staff</td>\n",
       "      <td>3.04</td>\n",
       "      <td>0</td>\n",
       "      <td>0</td>\n",
       "      <td>6</td>\n",
       "      <td>1</td>\n",
       "      <td>House</td>\n",
       "      <td>43</td>\n",
       "      <td>560</td>\n",
       "      <td>0</td>\n",
       "    </tr>\n",
       "    <tr>\n",
       "      <th>2</th>\n",
       "      <td>0</td>\n",
       "      <td>24.5</td>\n",
       "      <td>0.500</td>\n",
       "      <td>Checking</td>\n",
       "      <td>Single</td>\n",
       "      <td>York</td>\n",
       "      <td>Security Staff</td>\n",
       "      <td>1.50</td>\n",
       "      <td>0</td>\n",
       "      <td>1</td>\n",
       "      <td>0</td>\n",
       "      <td>1</td>\n",
       "      <td>House</td>\n",
       "      <td>280</td>\n",
       "      <td>824</td>\n",
       "      <td>0</td>\n",
       "    </tr>\n",
       "    <tr>\n",
       "      <th>3</th>\n",
       "      <td>1</td>\n",
       "      <td>27.83</td>\n",
       "      <td>1.540</td>\n",
       "      <td>Checking</td>\n",
       "      <td>Single</td>\n",
       "      <td>Oxford</td>\n",
       "      <td>Data Scientist</td>\n",
       "      <td>3.75</td>\n",
       "      <td>0</td>\n",
       "      <td>0</td>\n",
       "      <td>5</td>\n",
       "      <td>0</td>\n",
       "      <td>House</td>\n",
       "      <td>100</td>\n",
       "      <td>3</td>\n",
       "      <td>0</td>\n",
       "    </tr>\n",
       "    <tr>\n",
       "      <th>4</th>\n",
       "      <td>1</td>\n",
       "      <td>20.17</td>\n",
       "      <td>5.625</td>\n",
       "      <td>Checking</td>\n",
       "      <td>Single</td>\n",
       "      <td>Oxford</td>\n",
       "      <td>Data Scientist</td>\n",
       "      <td>1.71</td>\n",
       "      <td>0</td>\n",
       "      <td>1</td>\n",
       "      <td>0</td>\n",
       "      <td>1</td>\n",
       "      <td>Shared Accomodation</td>\n",
       "      <td>120</td>\n",
       "      <td>0</td>\n",
       "      <td>0</td>\n",
       "    </tr>\n",
       "  </tbody>\n",
       "</table>\n",
       "</div>"
      ],
      "text/plain": [
       "  Gender    Age  AmountOwed(%) AccountType FamilyStatus ResidenceCity  \\\n",
       "0      1  30.83          0.000    Checking       Single        Oxford   \n",
       "1      0  58.67          4.460    Checking       Single          York   \n",
       "2      0   24.5          0.500    Checking       Single          York   \n",
       "3      1  27.83          1.540    Checking       Single        Oxford   \n",
       "4      1  20.17          5.625    Checking       Single        Oxford   \n",
       "\n",
       "   OccupationType  YearsEmployed  OwnedOnePreviously  OwnProperty  \\\n",
       "0  Data Scientist           1.25                   0            0   \n",
       "1  Security Staff           3.04                   0            0   \n",
       "2  Security Staff           1.50                   0            1   \n",
       "3  Data Scientist           3.75                   0            0   \n",
       "4  Data Scientist           1.71                   0            1   \n",
       "\n",
       "   AccountLength  Citizen          HousingType CreditScore  MonthlyIncome  \\\n",
       "0              1        1                House         202              0   \n",
       "1              6        1                House          43            560   \n",
       "2              0        1                House         280            824   \n",
       "3              5        0                House         100              3   \n",
       "4              0        1  Shared Accomodation         120              0   \n",
       "\n",
       "   Approved  \n",
       "0         0  \n",
       "1         0  \n",
       "2         0  \n",
       "3         0  \n",
       "4         0  "
      ]
     },
     "execution_count": 8,
     "metadata": {},
     "output_type": "execute_result"
    }
   ],
   "source": [
    "dataset.head()"
   ]
  },
  {
   "cell_type": "code",
   "execution_count": 9,
   "metadata": {},
   "outputs": [
    {
     "data": {
      "text/plain": [
       "Gender                 True\n",
       "Age                    True\n",
       "AmountOwed(%)         False\n",
       "AccountType            True\n",
       "FamilyStatus           True\n",
       "ResidenceCity          True\n",
       "OccupationType         True\n",
       "YearsEmployed         False\n",
       "OwnedOnePreviously    False\n",
       "OwnProperty           False\n",
       "AccountLength         False\n",
       "Citizen               False\n",
       "HousingType           False\n",
       "CreditScore            True\n",
       "MonthlyIncome         False\n",
       "Approved              False\n",
       "dtype: bool"
      ]
     },
     "execution_count": 9,
     "metadata": {},
     "output_type": "execute_result"
    }
   ],
   "source": [
    "#Checking which columns contain null values\n",
    "dataset.isin(['?']).any()"
   ]
  },
  {
   "cell_type": "code",
   "execution_count": 10,
   "metadata": {},
   "outputs": [],
   "source": [
    "dataset=pd.read_csv('Credit_Approval.csv', names = ['Gender', 'Age', 'AmountOwed(%)', 'AccountType', 'FamilyStatus', 'ResidenceCity', 'OccupationType', \n",
    "              'YearsEmployed', 'OwnedOnePreviously', 'OwnProperty', 'AccountLength', 'Citizen', 'HousingType',\n",
    "             'CreditScore', 'MonthlyIncome', 'Approved'], na_values='?')"
   ]
  },
  {
   "cell_type": "code",
   "execution_count": 11,
   "metadata": {},
   "outputs": [
    {
     "data": {
      "text/plain": [
       "Gender                12\n",
       "Age                   12\n",
       "AmountOwed(%)          0\n",
       "AccountType            6\n",
       "FamilyStatus           6\n",
       "ResidenceCity          9\n",
       "OccupationType         9\n",
       "YearsEmployed          0\n",
       "OwnedOnePreviously     0\n",
       "OwnProperty            0\n",
       "AccountLength          0\n",
       "Citizen                0\n",
       "HousingType            0\n",
       "CreditScore           13\n",
       "MonthlyIncome          0\n",
       "Approved               0\n",
       "dtype: int64"
      ]
     },
     "execution_count": 11,
     "metadata": {},
     "output_type": "execute_result"
    }
   ],
   "source": [
    "dataset.isnull().sum()"
   ]
  },
  {
   "cell_type": "code",
   "execution_count": 12,
   "metadata": {},
   "outputs": [],
   "source": [
    "#Changing the type of credit score\n",
    "dataset['CreditScore'] = dataset['CreditScore'].astype(float)"
   ]
  },
  {
   "cell_type": "code",
   "execution_count": 13,
   "metadata": {},
   "outputs": [],
   "source": [
    "#Treating the missing values\n",
    "from sklearn.impute import SimpleImputer\n",
    "numImputer = SimpleImputer(missing_values=np.nan, strategy='mean')\n",
    "numImputer = numImputer.fit(dataset[['Age','CreditScore']])\n",
    "dataset[['Age','CreditScore']] = numImputer.transform(dataset[['Age','CreditScore']])\n",
    "catImputer = SimpleImputer(missing_values=np.nan, strategy='most_frequent')\n",
    "catImputer = catImputer.fit(dataset[['Gender','AccountType','FamilyStatus','ResidenceCity','OccupationType']])\n",
    "dataset[['Gender','AccountType','FamilyStatus','ResidenceCity','OccupationType']] = catImputer.transform(dataset[['Gender','AccountType','FamilyStatus','ResidenceCity','OccupationType']])"
   ]
  },
  {
   "cell_type": "code",
   "execution_count": 14,
   "metadata": {},
   "outputs": [
    {
     "data": {
      "text/plain": [
       "<matplotlib.axes._subplots.AxesSubplot at 0x7f8f516bd710>"
      ]
     },
     "execution_count": 14,
     "metadata": {},
     "output_type": "execute_result"
    },
    {
     "data": {
      "image/png": "[encoded data removed]",
      "text/plain": [
       "<Figure size 432x432 with 2 Axes>"
      ]
     },
     "metadata": {
      "needs_background": "light"
     },
     "output_type": "display_data"
    }
   ],
   "source": [
    "#Visualisations of numerical values\n",
    "plt.figure(figsize=(6,6))\n",
    "sns.heatmap(data=dataset.corr())"
   ]
  },
  {
   "cell_type": "code",
   "execution_count": 15,
   "metadata": {},
   "outputs": [
    {
     "data": {
      "text/plain": [
       "<matplotlib.axes._subplots.AxesSubplot at 0x7f8f52585550>"
      ]
     },
     "execution_count": 15,
     "metadata": {},
     "output_type": "execute_result"
    },
    {
     "data": {
      "image/png": "[encoded data removed]",
      "text/plain": [
       "<Figure size 432x432 with 4 Axes>"
      ]
     },
     "metadata": {
      "needs_background": "light"
     },
     "output_type": "display_data"
    }
   ],
   "source": [
    "#Visualisation of the Nominal Variables\n",
    "fig, ax = plt.subplots(2,2,figsize= (6,6))\n",
    "sns.countplot(x=dataset['Gender'], ax=ax[0,0])\n",
    "sns.countplot(x=dataset['OwnedOnePreviously'], ax=ax[0,1])\n",
    "sns.countplot(x=dataset['OwnProperty'], ax=ax[1,0])\n",
    "sns.countplot(x=dataset['Citizen'], ax=ax[1,1])"
   ]
  },
  {
   "cell_type": "code",
   "execution_count": 16,
   "metadata": {},
   "outputs": [
    {
     "data": {
      "text/plain": [
       "<matplotlib.axes._subplots.AxesSubplot at 0x7f8f5266a290>"
      ]
     },
     "execution_count": 16,
     "metadata": {},
     "output_type": "execute_result"
    },
    {
     "data": {
      "image/png": "[encoded data removed]",
      "text/plain": [
       "<Figure size 432x432 with 2 Axes>"
      ]
     },
     "metadata": {
      "needs_background": "light"
     },
     "output_type": "display_data"
    }
   ],
   "source": [
    "#Visualisation of the Categorical Variables\n",
    "fig, ax = plt.subplots(1,2,figsize= (6,6))\n",
    "sns.countplot(x=dataset['AccountType'], ax=ax[0])\n",
    "sns.countplot(x=dataset['FamilyStatus'], ax=ax[1])"
   ]
  },
  {
   "cell_type": "code",
   "execution_count": 17,
   "metadata": {},
   "outputs": [
    {
     "data": {
      "text/plain": [
       "<matplotlib.axes._subplots.AxesSubplot at 0x7f8f526ec650>"
      ]
     },
     "execution_count": 17,
     "metadata": {},
     "output_type": "execute_result"
    },
    {
     "data": {
      "image/png": "[encoded data removed]",
      "text/plain": [
       "<Figure size 720x720 with 1 Axes>"
      ]
     },
     "metadata": {
      "needs_background": "light"
     },
     "output_type": "display_data"
    }
   ],
   "source": [
    "plt.figure(figsize= (10,10))\n",
    "sns.countplot(x=dataset['ResidenceCity'])"
   ]
  },
  {
   "cell_type": "code",
   "execution_count": 18,
   "metadata": {},
   "outputs": [
    {
     "data": {
      "text/plain": [
       "<matplotlib.axes._subplots.AxesSubplot at 0x7f8f52848310>"
      ]
     },
     "execution_count": 18,
     "metadata": {},
     "output_type": "execute_result"
    },
    {
     "data": {
      "image/png": "[encoded data removed]",
      "text/plain": [
       "<Figure size 576x576 with 1 Axes>"
      ]
     },
     "metadata": {
      "needs_background": "light"
     },
     "output_type": "display_data"
    }
   ],
   "source": [
    "plt.figure(figsize= (8,8))\n",
    "sns.countplot(x=dataset['OccupationType'])"
   ]
  },
  {
   "cell_type": "code",
   "execution_count": 19,
   "metadata": {},
   "outputs": [
    {
     "data": {
      "text/plain": [
       "<matplotlib.axes._subplots.AxesSubplot at 0x7f8f52c41910>"
      ]
     },
     "execution_count": 19,
     "metadata": {},
     "output_type": "execute_result"
    },
    {
     "data": {
      "image/png": "[encoded data removed]",
      "text/plain": [
       "<Figure size 432x288 with 1 Axes>"
      ]
     },
     "metadata": {
      "needs_background": "light"
     },
     "output_type": "display_data"
    }
   ],
   "source": [
    "sns.countplot(x=dataset['HousingType'])"
   ]
  },
  {
   "cell_type": "code",
   "execution_count": 20,
   "metadata": {},
   "outputs": [
    {
     "data": {
      "text/plain": [
       "<matplotlib.axes._subplots.AxesSubplot at 0x7f8f52fa71d0>"
      ]
     },
     "execution_count": 20,
     "metadata": {},
     "output_type": "execute_result"
    },
    {
     "data": {
      "image/png": "[encoded data removed]",
      "text/plain": [
       "<Figure size 432x432 with 6 Axes>"
      ]
     },
     "metadata": {
      "needs_background": "light"
     },
     "output_type": "display_data"
    }
   ],
   "source": [
    "#Visualisation of Numerical Variables\n",
    "fig, ax = plt.subplots(3,2,figsize= (6,6))\n",
    "sns.histplot(x=dataset['Age'], ax=ax[0,0])\n",
    "sns.histplot(x=dataset['AmountOwed(%)'], ax=ax[0,1])\n",
    "sns.histplot(x=dataset['YearsEmployed'], ax=ax[1,0])\n",
    "sns.histplot(x=dataset['AccountLength'], ax=ax[1,1])\n",
    "sns.histplot(x=dataset['CreditScore'], ax=ax[2,0])\n",
    "sns.histplot(x=dataset['MonthlyIncome'], ax=ax[2,1])"
   ]
  },
  {
   "cell_type": "code",
   "execution_count": 21,
   "metadata": {},
   "outputs": [
    {
     "data": {
      "text/plain": [
       "<matplotlib.axes._subplots.AxesSubplot at 0x7f8f544257d0>"
      ]
     },
     "execution_count": 21,
     "metadata": {},
     "output_type": "execute_result"
    },
    {
     "data": {
      "image/png": "[encoded data removed]",
      "text/plain": [
       "<Figure size 432x432 with 6 Axes>"
      ]
     },
     "metadata": {
      "needs_background": "light"
     },
     "output_type": "display_data"
    }
   ],
   "source": [
    "#Boxplot for Numerical Values\n",
    "fig, ax = plt.subplots(3,2,figsize= (6,6))\n",
    "sns.boxplot(x=dataset['Age'], ax=ax[0,0])\n",
    "sns.boxplot(x=dataset['AmountOwed(%)'], ax=ax[0,1])\n",
    "sns.boxplot(x=dataset['YearsEmployed'], ax=ax[1,0])\n",
    "sns.boxplot(x=dataset['AccountLength'], ax=ax[1,1])\n",
    "sns.boxplot(x=dataset['CreditScore'], ax=ax[2,0])\n",
    "sns.boxplot(x=dataset['MonthlyIncome'], ax=ax[2,1])"
   ]
  },
  {
   "cell_type": "code",
   "execution_count": 22,
   "metadata": {},
   "outputs": [
    {
     "data": {
      "text/plain": [
       "<matplotlib.axes._subplots.AxesSubplot at 0x7f8f544fc490>"
      ]
     },
     "execution_count": 22,
     "metadata": {},
     "output_type": "execute_result"
    },
    {
     "data": {
      "image/png": "[encoded data removed]",
      "text/plain": [
       "<Figure size 432x288 with 1 Axes>"
      ]
     },
     "metadata": {
      "needs_background": "light"
     },
     "output_type": "display_data"
    }
   ],
   "source": [
    "#checking for the class imbalance\n",
    "sns.countplot(x=dataset['Approved'])"
   ]
  },
  {
   "cell_type": "code",
   "execution_count": 23,
   "metadata": {},
   "outputs": [],
   "source": [
    "#Label Encoding\n",
    "from sklearn.preprocessing import LabelEncoder\n",
    "le=LabelEncoder()\n",
    "for col in dataset.columns:\n",
    "    if dataset[col].dtypes == object:\n",
    "        dataset[col]= le.fit_transform(dataset[col])"
   ]
  },
  {
   "cell_type": "code",
   "execution_count": 24,
   "metadata": {},
   "outputs": [],
   "source": [
    "#Splitting dataset\n",
    "X = dataset.iloc[:, [0,1,2,3,4,5,6,7,8,9,10,11,12,13,14]].values\n",
    "y = dataset.iloc[:, 15].values\n",
    "\n",
    "from sklearn.model_selection import train_test_split\n",
    "X_train, X_test, y_train, y_test = train_test_split(X, y, train_size = 0.7, random_state= 0)"
   ]
  },
  {
   "cell_type": "code",
   "execution_count": 25,
   "metadata": {},
   "outputs": [],
   "source": [
    "#standardisation\n",
    "from sklearn.preprocessing import StandardScaler\n",
    "sc=StandardScaler()\n",
    "X_train_s=sc.fit_transform(X_train)\n",
    "X_test_s=sc.fit_transform(X_test)"
   ]
  },
  {
   "cell_type": "code",
   "execution_count": 26,
   "metadata": {},
   "outputs": [
    {
     "data": {
      "text/plain": [
       "LogisticRegression(C=1.0, class_weight=None, dual=False, fit_intercept=True,\n",
       "                   intercept_scaling=1, l1_ratio=None, max_iter=100,\n",
       "                   multi_class='auto', n_jobs=None, penalty='l2',\n",
       "                   random_state=None, solver='lbfgs', tol=0.0001, verbose=0,\n",
       "                   warm_start=False)"
      ]
     },
     "execution_count": 26,
     "metadata": {},
     "output_type": "execute_result"
    }
   ],
   "source": [
    "#Building the Model using Logistic Regression\n",
    "\n",
    "from sklearn.linear_model import LogisticRegression\n",
    "LogReg=LogisticRegression()\n",
    "LogReg.fit(X_train_s,y_train)"
   ]
  },
  {
   "cell_type": "code",
   "execution_count": 27,
   "metadata": {},
   "outputs": [
    {
     "data": {
      "text/plain": [
       "array([0, 0, 0, 0, 1, 1, 0, 1, 1, 1, 0, 0, 1, 1, 0, 1, 0, 0, 0, 0, 1, 1,\n",
       "       0, 0, 1, 1, 0, 1, 0, 0, 1, 0, 1, 1, 0, 1, 1, 0, 0, 0, 1, 0, 1, 0,\n",
       "       1, 1, 1, 1, 1, 0, 1, 1, 0, 1, 1, 1, 0, 1, 0, 1, 0, 1, 0, 1, 1, 0,\n",
       "       1, 0, 0, 1, 1, 1, 1, 0, 0, 0, 1, 1, 1, 0, 0, 1, 1, 1, 0, 0, 1, 1,\n",
       "       0, 0, 1, 1, 0, 0, 0, 1, 1, 0, 0, 1, 1, 0, 1, 0, 0, 0, 0, 1, 1, 1,\n",
       "       1, 1, 0, 0, 1, 1, 1, 1, 0, 0, 1, 1, 0, 0, 0, 0, 1, 0, 0, 0, 0, 1,\n",
       "       0, 1, 1, 1, 1, 1, 0, 1, 0, 0, 1, 0, 1, 1, 1, 0, 0, 0, 0, 0, 1, 1,\n",
       "       0, 1, 0, 1, 1, 1, 0, 1, 0, 0, 0, 1, 0, 0, 0, 1, 1, 1, 0, 0, 0, 0,\n",
       "       1, 0, 1, 0, 0, 1, 0, 1, 1, 1, 1, 0, 1, 0, 1, 0, 0, 1, 0, 0, 0, 1,\n",
       "       1, 1, 0, 1, 0, 1, 1, 1, 0, 0])"
      ]
     },
     "execution_count": 27,
     "metadata": {},
     "output_type": "execute_result"
    }
   ],
   "source": [
    "y_pred = LogReg.predict(X_test_s)\n",
    "y_pred"
   ]
  },
  {
   "cell_type": "code",
   "execution_count": 28,
   "metadata": {},
   "outputs": [
    {
     "name": "stdout",
     "output_type": "stream",
     "text": [
      "              precision    recall  f1-score   support\n",
      "\n",
      "           0       0.79      0.89      0.84        91\n",
      "           1       0.91      0.82      0.86       117\n",
      "\n",
      "    accuracy                           0.85       208\n",
      "   macro avg       0.85      0.86      0.85       208\n",
      "weighted avg       0.86      0.85      0.85       208\n",
      "\n",
      "[[81 10]\n",
      " [21 96]]\n"
     ]
    }
   ],
   "source": [
    "from sklearn.metrics import confusion_matrix,classification_report,accuracy_score\n",
    "cm = confusion_matrix(y_test,y_pred)\n",
    "accuracy_score(y_test,y_pred)\n",
    "print(classification_report(y_test,y_pred))\n",
    "print(cm)"
   ]
  },
  {
   "cell_type": "code",
   "execution_count": 29,
   "metadata": {},
   "outputs": [
    {
     "name": "stdout",
     "output_type": "stream",
     "text": [
      "Test: Accuracy =  0.8509615384615384\n",
      "Train: Accuracy =  0.8755186721991701\n"
     ]
    },
    {
     "data": {
      "text/plain": [
       "array([[81, 10],\n",
       "       [21, 96]])"
      ]
     },
     "execution_count": 29,
     "metadata": {},
     "output_type": "execute_result"
    }
   ],
   "source": [
    "# Get the accuracy score of logreg model and print it\n",
    "print(\"Test: Accuracy = \", LogReg.score(X_test_s,y_test))\n",
    "print(\"Train: Accuracy = \", LogReg.score(X_train_s,y_train))\n",
    "\n",
    "# Print the confusion matrix of the logreg model\n",
    "confusion_matrix(y_test,y_pred)"
   ]
  },
  {
   "cell_type": "code",
   "execution_count": 30,
   "metadata": {},
   "outputs": [],
   "source": [
    "#Building the Model using Neural Network\n",
    "import tensorflow as tf"
   ]
  },
  {
   "cell_type": "code",
   "execution_count": 31,
   "metadata": {},
   "outputs": [],
   "source": [
    "model = tf.keras.models.Sequential()\n",
    "\n",
    "model.add(tf.keras.layers.Dense(9,activation='relu',input_shape=(15,))) \n",
    "model.add(tf.keras.layers.Dense(2,activation='sigmoid'))"
   ]
  },
  {
   "cell_type": "code",
   "execution_count": 32,
   "metadata": {},
   "outputs": [
    {
     "name": "stdout",
     "output_type": "stream",
     "text": [
      "Model: \"sequential\"\n",
      "_________________________________________________________________\n",
      " Layer (type)                Output Shape              Param #   \n",
      "=================================================================\n",
      " dense (Dense)               (None, 9)                 144       \n",
      "                                                                 \n",
      " dense_1 (Dense)             (None, 2)                 20        \n",
      "                                                                 \n",
      "=================================================================\n",
      "Total params: 164\n",
      "Trainable params: 164\n",
      "Non-trainable params: 0\n",
      "_________________________________________________________________\n"
     ]
    }
   ],
   "source": [
    "#compiling the model\n",
    "model.compile(optimizer='adam', loss='sparse_categorical_crossentropy',\n",
    "                metrics='accuracy')\n",
    "model.summary()"
   ]
  },
  {
   "cell_type": "code",
   "execution_count": 33,
   "metadata": {},
   "outputs": [
    {
     "name": "stdout",
     "output_type": "stream",
     "text": [
      "Epoch 1/50\n",
      "43/43 - 1s - loss: 1.0251 - accuracy: 0.4214 - val_loss: 0.9425 - val_accuracy: 0.5103 - 1s/epoch - 24ms/step\n",
      "Epoch 2/50\n",
      "43/43 - 0s - loss: 0.8362 - accuracy: 0.4748 - val_loss: 0.7980 - val_accuracy: 0.5517 - 160ms/epoch - 4ms/step\n",
      "Epoch 3/50\n",
      "43/43 - 0s - loss: 0.7131 - accuracy: 0.5727 - val_loss: 0.6895 - val_accuracy: 0.6069 - 183ms/epoch - 4ms/step\n",
      "Epoch 4/50\n",
      "43/43 - 0s - loss: 0.6238 - accuracy: 0.6588 - val_loss: 0.6180 - val_accuracy: 0.6483 - 163ms/epoch - 4ms/step\n",
      "Epoch 5/50\n",
      "43/43 - 0s - loss: 0.5568 - accuracy: 0.7181 - val_loss: 0.5636 - val_accuracy: 0.6966 - 212ms/epoch - 5ms/step\n",
      "Epoch 6/50\n",
      "43/43 - 0s - loss: 0.5037 - accuracy: 0.7774 - val_loss: 0.5210 - val_accuracy: 0.7310 - 355ms/epoch - 8ms/step\n",
      "Epoch 7/50\n",
      "43/43 - 0s - loss: 0.4625 - accuracy: 0.8131 - val_loss: 0.4911 - val_accuracy: 0.7862 - 188ms/epoch - 4ms/step\n",
      "Epoch 8/50\n",
      "43/43 - 0s - loss: 0.4308 - accuracy: 0.8398 - val_loss: 0.4694 - val_accuracy: 0.7931 - 287ms/epoch - 7ms/step\n",
      "Epoch 9/50\n",
      "43/43 - 0s - loss: 0.4069 - accuracy: 0.8427 - val_loss: 0.4528 - val_accuracy: 0.8207 - 196ms/epoch - 5ms/step\n",
      "Epoch 10/50\n",
      "43/43 - 0s - loss: 0.3868 - accuracy: 0.8457 - val_loss: 0.4400 - val_accuracy: 0.8276 - 144ms/epoch - 3ms/step\n",
      "Epoch 11/50\n",
      "43/43 - 0s - loss: 0.3709 - accuracy: 0.8487 - val_loss: 0.4309 - val_accuracy: 0.8276 - 163ms/epoch - 4ms/step\n",
      "Epoch 12/50\n",
      "43/43 - 0s - loss: 0.3571 - accuracy: 0.8576 - val_loss: 0.4218 - val_accuracy: 0.8276 - 135ms/epoch - 3ms/step\n",
      "Epoch 13/50\n",
      "43/43 - 0s - loss: 0.3453 - accuracy: 0.8605 - val_loss: 0.4153 - val_accuracy: 0.8276 - 132ms/epoch - 3ms/step\n",
      "Epoch 14/50\n",
      "43/43 - 0s - loss: 0.3348 - accuracy: 0.8635 - val_loss: 0.4087 - val_accuracy: 0.8276 - 125ms/epoch - 3ms/step\n",
      "Epoch 15/50\n",
      "43/43 - 0s - loss: 0.3265 - accuracy: 0.8694 - val_loss: 0.4046 - val_accuracy: 0.8207 - 125ms/epoch - 3ms/step\n",
      "Epoch 16/50\n",
      "43/43 - 0s - loss: 0.3185 - accuracy: 0.8724 - val_loss: 0.4012 - val_accuracy: 0.8138 - 126ms/epoch - 3ms/step\n",
      "Epoch 17/50\n",
      "43/43 - 0s - loss: 0.3123 - accuracy: 0.8724 - val_loss: 0.3988 - val_accuracy: 0.8138 - 128ms/epoch - 3ms/step\n",
      "Epoch 18/50\n",
      "43/43 - 0s - loss: 0.3064 - accuracy: 0.8754 - val_loss: 0.3953 - val_accuracy: 0.8138 - 131ms/epoch - 3ms/step\n",
      "Epoch 19/50\n",
      "43/43 - 0s - loss: 0.3011 - accuracy: 0.8724 - val_loss: 0.3947 - val_accuracy: 0.8138 - 128ms/epoch - 3ms/step\n",
      "Epoch 20/50\n",
      "43/43 - 0s - loss: 0.2962 - accuracy: 0.8813 - val_loss: 0.3923 - val_accuracy: 0.8138 - 125ms/epoch - 3ms/step\n",
      "Epoch 21/50\n",
      "43/43 - 0s - loss: 0.2914 - accuracy: 0.8843 - val_loss: 0.3907 - val_accuracy: 0.8345 - 131ms/epoch - 3ms/step\n",
      "Epoch 22/50\n",
      "43/43 - 0s - loss: 0.2873 - accuracy: 0.8872 - val_loss: 0.3894 - val_accuracy: 0.8345 - 130ms/epoch - 3ms/step\n",
      "Epoch 23/50\n",
      "43/43 - 0s - loss: 0.2835 - accuracy: 0.8932 - val_loss: 0.3884 - val_accuracy: 0.8345 - 124ms/epoch - 3ms/step\n",
      "Epoch 24/50\n",
      "43/43 - 0s - loss: 0.2797 - accuracy: 0.8961 - val_loss: 0.3872 - val_accuracy: 0.8414 - 125ms/epoch - 3ms/step\n",
      "Epoch 25/50\n",
      "43/43 - 0s - loss: 0.2766 - accuracy: 0.8932 - val_loss: 0.3850 - val_accuracy: 0.8276 - 125ms/epoch - 3ms/step\n",
      "Epoch 26/50\n",
      "43/43 - 0s - loss: 0.2736 - accuracy: 0.8991 - val_loss: 0.3852 - val_accuracy: 0.8414 - 131ms/epoch - 3ms/step\n",
      "Epoch 27/50\n",
      "43/43 - 0s - loss: 0.2702 - accuracy: 0.8991 - val_loss: 0.3831 - val_accuracy: 0.8414 - 122ms/epoch - 3ms/step\n",
      "Epoch 28/50\n",
      "43/43 - 0s - loss: 0.2668 - accuracy: 0.9021 - val_loss: 0.3833 - val_accuracy: 0.8414 - 125ms/epoch - 3ms/step\n",
      "Epoch 29/50\n",
      "43/43 - 0s - loss: 0.2638 - accuracy: 0.8961 - val_loss: 0.3825 - val_accuracy: 0.8414 - 123ms/epoch - 3ms/step\n",
      "Epoch 30/50\n",
      "43/43 - 0s - loss: 0.2613 - accuracy: 0.8991 - val_loss: 0.3817 - val_accuracy: 0.8483 - 127ms/epoch - 3ms/step\n",
      "Epoch 31/50\n",
      "43/43 - 0s - loss: 0.2582 - accuracy: 0.9021 - val_loss: 0.3789 - val_accuracy: 0.8552 - 128ms/epoch - 3ms/step\n",
      "Epoch 32/50\n",
      "43/43 - 0s - loss: 0.2564 - accuracy: 0.9050 - val_loss: 0.3783 - val_accuracy: 0.8552 - 123ms/epoch - 3ms/step\n",
      "Epoch 33/50\n",
      "43/43 - 0s - loss: 0.2537 - accuracy: 0.9050 - val_loss: 0.3784 - val_accuracy: 0.8552 - 123ms/epoch - 3ms/step\n",
      "Epoch 34/50\n",
      "43/43 - 0s - loss: 0.2513 - accuracy: 0.9050 - val_loss: 0.3781 - val_accuracy: 0.8552 - 126ms/epoch - 3ms/step\n",
      "Epoch 35/50\n",
      "43/43 - 0s - loss: 0.2493 - accuracy: 0.9050 - val_loss: 0.3789 - val_accuracy: 0.8552 - 127ms/epoch - 3ms/step\n",
      "Epoch 36/50\n",
      "43/43 - 0s - loss: 0.2476 - accuracy: 0.9110 - val_loss: 0.3786 - val_accuracy: 0.8552 - 123ms/epoch - 3ms/step\n",
      "Epoch 37/50\n",
      "43/43 - 0s - loss: 0.2446 - accuracy: 0.9110 - val_loss: 0.3774 - val_accuracy: 0.8552 - 122ms/epoch - 3ms/step\n",
      "Epoch 38/50\n",
      "43/43 - 0s - loss: 0.2438 - accuracy: 0.9021 - val_loss: 0.3780 - val_accuracy: 0.8552 - 126ms/epoch - 3ms/step\n",
      "Epoch 39/50\n",
      "43/43 - 0s - loss: 0.2406 - accuracy: 0.9110 - val_loss: 0.3780 - val_accuracy: 0.8552 - 148ms/epoch - 3ms/step\n",
      "Epoch 40/50\n",
      "43/43 - 0s - loss: 0.2395 - accuracy: 0.9080 - val_loss: 0.3795 - val_accuracy: 0.8552 - 142ms/epoch - 3ms/step\n",
      "Epoch 41/50\n",
      "43/43 - 0s - loss: 0.2375 - accuracy: 0.9110 - val_loss: 0.3782 - val_accuracy: 0.8552 - 143ms/epoch - 3ms/step\n",
      "Epoch 42/50\n",
      "43/43 - 0s - loss: 0.2360 - accuracy: 0.9139 - val_loss: 0.3771 - val_accuracy: 0.8552 - 140ms/epoch - 3ms/step\n",
      "Epoch 43/50\n",
      "43/43 - 0s - loss: 0.2337 - accuracy: 0.9139 - val_loss: 0.3775 - val_accuracy: 0.8552 - 134ms/epoch - 3ms/step\n",
      "Epoch 44/50\n",
      "43/43 - 0s - loss: 0.2323 - accuracy: 0.9169 - val_loss: 0.3762 - val_accuracy: 0.8483 - 135ms/epoch - 3ms/step\n",
      "Epoch 45/50\n",
      "43/43 - 0s - loss: 0.2308 - accuracy: 0.9139 - val_loss: 0.3765 - val_accuracy: 0.8552 - 137ms/epoch - 3ms/step\n",
      "Epoch 46/50\n",
      "43/43 - 0s - loss: 0.2298 - accuracy: 0.9110 - val_loss: 0.3742 - val_accuracy: 0.8483 - 127ms/epoch - 3ms/step\n",
      "Epoch 47/50\n",
      "43/43 - 0s - loss: 0.2283 - accuracy: 0.9139 - val_loss: 0.3748 - val_accuracy: 0.8483 - 129ms/epoch - 3ms/step\n",
      "Epoch 48/50\n",
      "43/43 - 0s - loss: 0.2263 - accuracy: 0.9110 - val_loss: 0.3761 - val_accuracy: 0.8552 - 132ms/epoch - 3ms/step\n",
      "Epoch 49/50\n",
      "43/43 - 0s - loss: 0.2258 - accuracy: 0.9169 - val_loss: 0.3775 - val_accuracy: 0.8552 - 132ms/epoch - 3ms/step\n",
      "Epoch 50/50\n",
      "43/43 - 0s - loss: 0.2242 - accuracy: 0.9110 - val_loss: 0.3781 - val_accuracy: 0.8552 - 138ms/epoch - 3ms/step\n"
     ]
    }
   ],
   "source": [
    "NeuNet = model.fit(X_train_s, y_train, batch_size = 8, epochs= 50, verbose=2, validation_split=0.3)"
   ]
  },
  {
   "cell_type": "code",
   "execution_count": 34,
   "metadata": {},
   "outputs": [
    {
     "data": {
      "text/plain": [
       "<matplotlib.legend.Legend at 0x7f8f3c092450>"
      ]
     },
     "execution_count": 34,
     "metadata": {},
     "output_type": "execute_result"
    },
    {
     "data": {
      "image/png": "[encoded data removed]",
      "text/plain": [
       "<Figure size 432x288 with 1 Axes>"
      ]
     },
     "metadata": {
      "needs_background": "light"
     },
     "output_type": "display_data"
    }
   ],
   "source": [
    "accuracy = NeuNet.history['accuracy'] \n",
    "validation_accuracy = NeuNet.history['val_accuracy']\n",
    "plt.plot(accuracy, label='Training Set Accuracy') \n",
    "plt.plot(validation_accuracy, label='Validation Set Accuracy') \n",
    "plt.ylabel('Accuracy')\n",
    "plt.ylim([min(plt.ylim()),1])\n",
    "plt.title('Training and Validation Accuracy Across Epochs')\n",
    "plt.legend()"
   ]
  },
  {
   "cell_type": "code",
   "execution_count": 35,
   "metadata": {},
   "outputs": [
    {
     "data": {
      "text/plain": [
       "<matplotlib.legend.Legend at 0x7f8f3c0f5250>"
      ]
     },
     "execution_count": 35,
     "metadata": {},
     "output_type": "execute_result"
    },
    {
     "data": {
      "image/png": "[encoded data removed]",
      "text/plain": [
       "<Figure size 432x288 with 1 Axes>"
      ]
     },
     "metadata": {
      "needs_background": "light"
     },
     "output_type": "display_data"
    }
   ],
   "source": [
    "loss = NeuNet.history['loss'] \n",
    "validation_loss = NeuNet.history['val_loss']\n",
    "plt.plot(loss, label='Training Set Loss') \n",
    "plt.plot(validation_loss, label='Validation Set Loss') \n",
    "plt.ylabel('Loss')\n",
    "plt.title('Training and Validation Accuracy Across Epochs') \n",
    "plt.legend()"
   ]
  },
  {
   "cell_type": "code",
   "execution_count": 36,
   "metadata": {},
   "outputs": [
    {
     "name": "stdout",
     "output_type": "stream",
     "text": [
      "7/7 [==============================] - 0s 2ms/step\n"
     ]
    }
   ],
   "source": [
    "y_pred_NeuNet = model.predict(X_test_s) \n",
    "y_pred_NeuNet = y_pred_NeuNet.argmax(axis=1)"
   ]
  },
  {
   "cell_type": "code",
   "execution_count": 37,
   "metadata": {},
   "outputs": [
    {
     "data": {
      "image/png": "[encoded data removed]",
      "text/plain": [
       "<Figure size 432x288 with 2 Axes>"
      ]
     },
     "metadata": {
      "needs_background": "light"
     },
     "output_type": "display_data"
    }
   ],
   "source": [
    "confusion_matrix_NeuNet = confusion_matrix(y_test,y_pred_NeuNet)\n",
    "ax = sns.heatmap(confusion_matrix_NeuNet, cmap='flare',annot=True, fmt='d')\n",
    "plt.xlabel(\"Predicted Class\",fontsize=12) \n",
    "plt.ylabel(\"True Class\",fontsize=12) \n",
    "plt.title(\"Confusion Matrix for Neural Networks\",fontsize=12)\n",
    "plt.show()"
   ]
  },
  {
   "cell_type": "code",
   "execution_count": 38,
   "metadata": {},
   "outputs": [
    {
     "name": "stdout",
     "output_type": "stream",
     "text": [
      "              precision    recall  f1-score   support\n",
      "\n",
      "           0       0.83      0.85      0.84        91\n",
      "           1       0.88      0.86      0.87       117\n",
      "\n",
      "    accuracy                           0.86       208\n",
      "   macro avg       0.85      0.85      0.85       208\n",
      "weighted avg       0.86      0.86      0.86       208\n",
      "\n"
     ]
    }
   ],
   "source": [
    "print(classification_report(y_test,y_pred_NeuNet))"
   ]
  },
  {
   "cell_type": "code",
   "execution_count": 39,
   "metadata": {},
   "outputs": [
    {
     "data": {
      "image/png": "[encoded data removed]",
      "text/plain": [
       "<Figure size 432x288 with 2 Axes>"
      ]
     },
     "metadata": {
      "needs_background": "light"
     },
     "output_type": "display_data"
    }
   ],
   "source": [
    "ax = sns.heatmap(cm, cmap='flare',annot=True, fmt='d')\n",
    "plt.xlabel(\"Predicted Class\",fontsize=12) \n",
    "plt.ylabel(\"True Class\",fontsize=12) \n",
    "plt.title(\"Confusion Matrix for Logistic Regression\",fontsize=12)\n",
    "plt.show()"
   ]
  },
  {
   "cell_type": "code",
   "execution_count": 40,
   "metadata": {},
   "outputs": [
    {
     "name": "stdout",
     "output_type": "stream",
     "text": [
      "Accuracy Score for Logistic Regression is 0.85096\n",
      "Accuracy Score for Neural Networks is 0.85577\n"
     ]
    }
   ],
   "source": [
    "print('Accuracy Score for Logistic Regression is {:.5}'.format(accuracy_score(y_test, y_pred)))\n",
    "print('Accuracy Score for Neural Networks is {:.5}'.format(accuracy_score(y_test, y_pred_NeuNet)))"
   ]
  },
  {
   "cell_type": "code",
   "execution_count": null,
   "metadata": {},
   "outputs": [],
   "source": []
  }
 ],
 "metadata": {
  "kernelspec": {
   "display_name": "Python 3",
   "language": "python",
   "name": "python3"
  },
  "language_info": {
   "codemirror_mode": {
    "name": "ipython",
    "version": 3
   },
   "file_extension": ".py",
   "mimetype": "text/x-python",
   "name": "python",
   "nbconvert_exporter": "python",
   "pygments_lexer": "ipython3",
   "version": "3.7.6"
  }
 },
 "nbformat": 4,
 "nbformat_minor": 4
}
